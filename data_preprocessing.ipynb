{
 "cells": [
  {
   "cell_type": "markdown",
   "metadata": {},
   "source": [
    "# Data preprocessing for kasumigaura"
   ]
  },
  {
   "cell_type": "code",
   "execution_count": 70,
   "metadata": {},
   "outputs": [],
   "source": [
    "# import modules\n",
    "import geopandas as gpd\n",
    "import urllib.request\n"
   ]
  },
  {
   "cell_type": "markdown",
   "metadata": {},
   "source": [
    "## Spatial data"
   ]
  },
  {
   "cell_type": "code",
   "execution_count": 66,
   "metadata": {},
   "outputs": [
    {
     "data": {
      "text/plain": [
       "<matplotlib.axes._subplots.AxesSubplot at 0x7f5d671c5850>"
      ]
     },
     "execution_count": 66,
     "metadata": {},
     "output_type": "execute_result"
    },
    {
     "data": {
      "image/png": "[encoded data removed]",
      "text/plain": [
       "<Figure size 432x288 with 1 Axes>"
      ]
     },
     "metadata": {
      "needs_background": "light"
     },
     "output_type": "display_data"
    }
   ],
   "source": [
    "# satellite tile\n",
    "tile_s2_shp_path = '../rsgis/data/s2/sentinel2_tiles_world/sentinel2_tiles_world.shp'\n",
    "tile_s2_gdf = gpd.read_file(tile_s2_shp_path)\n",
    "\n",
    "# kasumigaura\n",
    "kasumigaura_shp_path = '../rsgis/data/jpn_gsi/jpgis/kasumigaura.shp'\n",
    "kasumigaura_gdf = gpd.read_file(kasumigaura_shp_path)\\\n",
    "    .to_crs(tile_s2_gdf.crs)\n",
    "nishiura_gdf = kasumigaura_gdf[kasumigaura_gdf['name'] == 'nishiura']\n",
    "\n",
    "# filter tile grid\n",
    "tile_s2_gdf = gpd.sjoin(tile_s2_gdf, nishiura_gdf, how='inner',  op='intersects')\n",
    "\n",
    "# plot overlay\n",
    "ax = nishiura_gdf.plot()\n",
    "tile_s2_gdf.boundary.plot(ax = ax, color=None, edgecolor='k')"
   ]
  },
  {
   "cell_type": "code",
   "execution_count": 69,
   "metadata": {},
   "outputs": [
    {
     "data": {
      "text/plain": [
       "51107    54SVE\n",
       "51108    54SVF\n",
       "Name: Name, dtype: object"
      ]
     },
     "execution_count": 69,
     "metadata": {},
     "output_type": "execute_result"
    }
   ],
   "source": [
    "tile_s2_gdf['Name']"
   ]
  },
  {
   "cell_type": "markdown",
   "metadata": {},
   "source": [
    "## Table data"
   ]
  },
  {
   "cell_type": "code",
   "execution_count": 122,
   "metadata": {},
   "outputs": [],
   "source": [
    "import zipfile\n",
    "import pandas as pd\n",
    "from io import StringIO, BytesIO\n",
    "\n",
    "from urllib.request import urlopen\n",
    "wq_tbl31_url = 'http://db.cger.nies.go.jp/gem/inter/GEMS/database/kasumi/data/water/insitu.zip'\n",
    "wq_tbl41_url = 'http://db.cger.nies.go.jp/gem/inter/GEMS/database/kasumi/data/water/others.zip'\n",
    "with urlopen(wq_tbl31_url) as response:\n",
    "    with zipfile.ZipFile(BytesIO(response.read())) as zfile:\n",
    "        # print(zfile.namelist())\n",
    "        meta_df = pd.read_csv(zfile.open('insitu/insitu.csv'), parse_dates=True)\n",
    "\n",
    "with urlopen(wq_tbl41_url) as response:\n",
    "    with zipfile.ZipFile(BytesIO(response.read())) as zfile:\n",
    "        data_df = pd.read_csv(zfile.open('others/others.csv'), parse_dates=True)\n",
    "\n",
    "# Station position\n",
    "# http://db.cger.nies.go.jp/gem/inter/GEMS/database/kasumi/contents/station.html\n",
    "coords =  pd.DataFrame(\n",
    "    {'Station':   [       1,        2,        3,        4,        6,\n",
    "                          7,         8,       9, 11, 12],\n",
    "     'Latitude':  [ 36.1492,  36.1377,  36.1217,  36.0892,  36.0819,\n",
    "                     36.065,  36.0454,  36.0357,  36.0084,  35.9766],\n",
    "     'Longitude': [140.3249, 140.3404, 140.3775, 140.3982, 140.2204,\n",
    "                   140.2332, 140.2995, 140.4037, 140.4359, 140.472]})\n",
    "station_gdf = gpd.GeoDataFrame(\n",
    "    coords,\n",
    "    geometry=gpd.points_from_xy(coords.Longitude, coords.Latitude),\n",
    "    crs='EPSG:4326')"
   ]
  },
  {
   "cell_type": "code",
   "execution_count": 107,
   "metadata": {},
   "outputs": [
    {
     "data": {
      "text/plain": [
       "<matplotlib.axes._subplots.AxesSubplot at 0x7f5d65757490>"
      ]
     },
     "execution_count": 107,
     "metadata": {},
     "output_type": "execute_result"
    },
    {
     "data": {
      "image/png": "[encoded data removed]",
      "text/plain": [
       "<Figure size 432x288 with 1 Axes>"
      ]
     },
     "metadata": {
      "needs_background": "light"
     },
     "output_type": "display_data"
    }
   ],
   "source": [
    "station_gdf.plot()"
   ]
  },
  {
   "cell_type": "code",
   "execution_count": 123,
   "metadata": {},
   "outputs": [
    {
     "name": "stdout",
     "output_type": "stream",
     "text": [
      "       Date_Japan  Station                Item  Value   Unit Flag_value\n",
      "0      1977-04-18        1                  SS   11.2   mg/L        NaN\n",
      "1      1977-04-18        1                 POC      3  mgC/L        NaN\n",
      "2      1977-04-18        1                 PON  0.56   mgN/L        NaN\n",
      "3      1977-04-18        1                 C/N    5.4      -        NaN\n",
      "4      1977-04-18        1               Depth    2.5      m        NaN\n",
      "...           ...      ...                 ...    ...    ...        ...\n",
      "50189  2018-03-12       12                 C/N   5.7       -        NaN\n",
      "50190  2018-03-12       12  Sonar Depth (ref.)    4.2      m        NaN\n",
      "50191  2018-03-12       12               Depth    4.3      m        NaN\n",
      "50192  2018-03-12       12        Transparency     75     cm        NaN\n",
      "50193  2018-03-12       12                E.C.    204      -        NaN\n",
      "\n",
      "[50194 rows x 6 columns]\n",
      "['SS' 'POC' 'PON' 'C/N' 'Depth' 'T-COD' 'Chl-a' 'Transparency' 'E.C.'\n",
      " 'D-COD' 'Sonar Depth (ref.)']\n"
     ]
    }
   ],
   "source": [
    "print(data_df)\n",
    "print(data_df['Item'].unique())"
   ]
  },
  {
   "cell_type": "code",
   "execution_count": 127,
   "metadata": {},
   "outputs": [
    {
     "data": {
      "text/plain": [
       "str"
      ]
     },
     "execution_count": 127,
     "metadata": {},
     "output_type": "execute_result"
    }
   ],
   "source": [
    "type(data_df['Date_Japan'][0])"
   ]
  },
  {
   "cell_type": "code",
   "execution_count": 124,
   "metadata": {},
   "outputs": [
    {
     "data": {
      "text/html": [
       "<div>\n",
       "<style scoped>\n",
       "    .dataframe tbody tr th:only-of-type {\n",
       "        vertical-align: middle;\n",
       "    }\n",
       "\n",
       "    .dataframe tbody tr th {\n",
       "        vertical-align: top;\n",
       "    }\n",
       "\n",
       "    .dataframe thead th {\n",
       "        text-align: right;\n",
       "    }\n",
       "</style>\n",
       "<table border=\"1\" class=\"dataframe\">\n",
       "  <thead>\n",
       "    <tr style=\"text-align: right;\">\n",
       "      <th></th>\n",
       "      <th>Date_Japan</th>\n",
       "      <th>Station</th>\n",
       "      <th>Item</th>\n",
       "      <th>Value</th>\n",
       "      <th>Unit</th>\n",
       "      <th>Flag_value</th>\n",
       "    </tr>\n",
       "  </thead>\n",
       "  <tbody>\n",
       "    <tr>\n",
       "      <th>0</th>\n",
       "      <td>1977-05-17</td>\n",
       "      <td>1</td>\n",
       "      <td>Chl-a</td>\n",
       "      <td>9</td>\n",
       "      <td>ug/L</td>\n",
       "      <td>NaN</td>\n",
       "    </tr>\n",
       "    <tr>\n",
       "      <th>1</th>\n",
       "      <td>1977-05-17</td>\n",
       "      <td>2</td>\n",
       "      <td>Chl-a</td>\n",
       "      <td>19</td>\n",
       "      <td>ug/L</td>\n",
       "      <td>NaN</td>\n",
       "    </tr>\n",
       "    <tr>\n",
       "      <th>2</th>\n",
       "      <td>1977-05-17</td>\n",
       "      <td>3</td>\n",
       "      <td>Chl-a</td>\n",
       "      <td>26</td>\n",
       "      <td>ug/L</td>\n",
       "      <td>NaN</td>\n",
       "    </tr>\n",
       "    <tr>\n",
       "      <th>3</th>\n",
       "      <td>1977-05-17</td>\n",
       "      <td>4</td>\n",
       "      <td>Chl-a</td>\n",
       "      <td>35</td>\n",
       "      <td>ug/L</td>\n",
       "      <td>NaN</td>\n",
       "    </tr>\n",
       "    <tr>\n",
       "      <th>4</th>\n",
       "      <td>1977-05-17</td>\n",
       "      <td>6</td>\n",
       "      <td>Chl-a</td>\n",
       "      <td>30</td>\n",
       "      <td>ug/L</td>\n",
       "      <td>NaN</td>\n",
       "    </tr>\n",
       "    <tr>\n",
       "      <th>...</th>\n",
       "      <td>...</td>\n",
       "      <td>...</td>\n",
       "      <td>...</td>\n",
       "      <td>...</td>\n",
       "      <td>...</td>\n",
       "      <td>...</td>\n",
       "    </tr>\n",
       "    <tr>\n",
       "      <th>5177</th>\n",
       "      <td>2018-03-12</td>\n",
       "      <td>7</td>\n",
       "      <td>Chl-a</td>\n",
       "      <td>48</td>\n",
       "      <td>ug/L</td>\n",
       "      <td>NaN</td>\n",
       "    </tr>\n",
       "    <tr>\n",
       "      <th>5178</th>\n",
       "      <td>2018-03-12</td>\n",
       "      <td>8</td>\n",
       "      <td>Chl-a</td>\n",
       "      <td>36</td>\n",
       "      <td>ug/L</td>\n",
       "      <td>NaN</td>\n",
       "    </tr>\n",
       "    <tr>\n",
       "      <th>5179</th>\n",
       "      <td>2018-03-12</td>\n",
       "      <td>9</td>\n",
       "      <td>Chl-a</td>\n",
       "      <td>35</td>\n",
       "      <td>ug/L</td>\n",
       "      <td>NaN</td>\n",
       "    </tr>\n",
       "    <tr>\n",
       "      <th>5180</th>\n",
       "      <td>2018-03-12</td>\n",
       "      <td>11</td>\n",
       "      <td>Chl-a</td>\n",
       "      <td>26</td>\n",
       "      <td>ug/L</td>\n",
       "      <td>NaN</td>\n",
       "    </tr>\n",
       "    <tr>\n",
       "      <th>5181</th>\n",
       "      <td>2018-03-12</td>\n",
       "      <td>12</td>\n",
       "      <td>Chl-a</td>\n",
       "      <td>32</td>\n",
       "      <td>ug/L</td>\n",
       "      <td>NaN</td>\n",
       "    </tr>\n",
       "  </tbody>\n",
       "</table>\n",
       "<p>5182 rows × 6 columns</p>\n",
       "</div>"
      ],
      "text/plain": [
       "      Date_Japan  Station   Item Value  Unit Flag_value\n",
       "0     1977-05-17        1  Chl-a     9  ug/L        NaN\n",
       "1     1977-05-17        2  Chl-a    19  ug/L        NaN\n",
       "2     1977-05-17        3  Chl-a    26  ug/L        NaN\n",
       "3     1977-05-17        4  Chl-a    35  ug/L        NaN\n",
       "4     1977-05-17        6  Chl-a    30  ug/L        NaN\n",
       "...          ...      ...    ...   ...   ...        ...\n",
       "5177  2018-03-12        7  Chl-a    48  ug/L        NaN\n",
       "5178  2018-03-12        8  Chl-a    36  ug/L        NaN\n",
       "5179  2018-03-12        9  Chl-a    35  ug/L        NaN\n",
       "5180  2018-03-12       11  Chl-a    26  ug/L        NaN\n",
       "5181  2018-03-12       12  Chl-a    32  ug/L        NaN\n",
       "\n",
       "[5182 rows x 6 columns]"
      ]
     },
     "execution_count": 124,
     "metadata": {},
     "output_type": "execute_result"
    }
   ],
   "source": [
    "chla_df = data_df[data_df['Item'] == 'Chl-a'].reset_index(drop=True)\n",
    "chla_df"
   ]
  },
  {
   "cell_type": "code",
   "execution_count": 125,
   "metadata": {},
   "outputs": [
    {
     "data": {
      "text/plain": [
       "str"
      ]
     },
     "execution_count": 125,
     "metadata": {},
     "output_type": "execute_result"
    }
   ],
   "source": [
    "type(chla_df['Date_Japan'][0])"
   ]
  }
 ],
 "metadata": {
  "kernelspec": {
   "display_name": "Python 3",
   "language": "python",
   "name": "python3"
  },
  "language_info": {
   "codemirror_mode": {
    "name": "ipython",
    "version": 3
   },
   "file_extension": ".py",
   "mimetype": "text/x-python",
   "name": "python",
   "nbconvert_exporter": "python",
   "pygments_lexer": "ipython3",
   "version": "3.7.6"
  }
 },
 "nbformat": 4,
 "nbformat_minor": 4
}
